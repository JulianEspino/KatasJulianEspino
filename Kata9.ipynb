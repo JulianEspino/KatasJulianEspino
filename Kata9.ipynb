{
 "cells": [
  {
   "cell_type": "markdown",
   "metadata": {},
   "source": [
    "# Ejercicio 1: Trabajar con argumentos en funciones"
   ]
  },
  {
   "cell_type": "code",
   "execution_count": 4,
   "metadata": {},
   "outputs": [
    {
     "name": "stdout",
     "output_type": "stream",
     "text": [
      "Reporte Combustible:\n",
      "    Promedio total: 78.33333333333333%\n",
      "    Tanque principal: 80%\n",
      "    Tanque externo: 70%\n",
      "    Tanque hidrogeno: 85% \n",
      "    \n",
      "82.0\n",
      "Reporte Combustible:\n",
      "    Promedio Total: 78.0%\n",
      "    Tanque principal: 88%\n",
      "    Tanque externo: 76%\n",
      "    Tanque hidrogeno: 70% \n",
      "    \n"
     ]
    }
   ],
   "source": [
    "def generar_reporte(tanque_principal, tanque_externo, tanque_hidrogeno):\n",
    "    promedio_total = (tanque_principal + tanque_externo + tanque_hidrogeno) / 3\n",
    "    return f\"\"\"Reporte Combustible:\n",
    "    Promedio total: {promedio_total}%\n",
    "    Tanque principal: {tanque_principal}%\n",
    "    Tanque externo: {tanque_externo}%\n",
    "    Tanque hidrogeno: {tanque_hidrogeno}% \n",
    "    \"\"\"\n",
    "\n",
    "print(generar_reporte(80, 70, 85))\n",
    "\n",
    "def promedio(valores):\n",
    "    total = sum(valores)\n",
    "    numero_de_elementos = len(valores)\n",
    "    return total / numero_de_elementos\n",
    "\n",
    "print(promedio([80, 85, 81])) \n",
    "\n",
    "def generar_reporte(tanque_principal, tanque_externo, tanque_hidrogeno):\n",
    "    return f\"\"\"Reporte Combustible:\n",
    "    Promedio Total: {promedio([tanque_principal, tanque_externo, tanque_hidrogeno])}%\n",
    "    Tanque principal: {tanque_principal}%\n",
    "    Tanque externo: {tanque_externo}%\n",
    "    Tanque hidrogeno: {tanque_hidrogeno}% \n",
    "    \"\"\"\n",
    "print(generar_reporte(88, 76, 70))"
   ]
  },
  {
   "cell_type": "markdown",
   "metadata": {},
   "source": [
    "# Ejercicio 2: Trabajo con argumentos de palabra clave"
   ]
  },
  {
   "cell_type": "code",
   "execution_count": 7,
   "metadata": {},
   "outputs": [
    {
     "name": "stdout",
     "output_type": "stream",
     "text": [
      "\n",
      "    Mision hacia Moon\n",
      "    Tiempo total viaje: 65 minutos\n",
      "    Total combustible restante: 500000 galones\n",
      "    \n",
      "\n",
      "    Mision hacia Luna\n",
      "    Tiempo total viaje: 76 minutos\n",
      "    Total combustible restante: 500000\n",
      "    \n",
      "\n",
      "    Mision hacia Moon\n",
      "    Tiempo total viaje: 74 minutos\n",
      "    Combustible total restante: 500000\n",
      "    main tank --> 300000 gallons left\n",
      "external tank --> 200000 gallons left\n",
      "\n"
     ]
    }
   ],
   "source": [
    "def reporte_mision(tiempo_pre_lanzamiento, tiempo_vuelo, destino, tanque_externo, tanque_principal):\n",
    "    return f\"\"\"\n",
    "    Mision hacia {destino}\n",
    "    Tiempo total viaje: {tiempo_pre_lanzamiento + tiempo_vuelo} minutos\n",
    "    Total combustible restante: {tanque_externo + tanque_principal} galones\n",
    "    \"\"\"\n",
    "print(reporte_mision(14, 51, \"Moon\", 200000, 300000))\n",
    "\n",
    "def reporte_mision(destino, *minutos, **reservas_combustible):\n",
    "    return f\"\"\"\n",
    "    Mision hacia {destino}\n",
    "    Tiempo total viaje: {sum(minutos)} minutos\n",
    "    Total combustible restante: {sum(reservas_combustible.values())}\n",
    "    \"\"\"\n",
    "\n",
    "print(reporte_mision(\"Luna\", 10, 15, 51, main=300000, external=200000))\n",
    "\n",
    "def reporte_mision(destino, *minutos, **reservas_combustible):\n",
    "    reporte_principal = f\"\"\"\n",
    "    Mision hacia {destino}\n",
    "    Tiempo total viaje: {sum(minutos)} minutos\n",
    "    Combustible total restante: {sum(reservas_combustible.values())}\n",
    "    \"\"\"\n",
    "    for tank_name, gallons in reservas_combustible.items():\n",
    "        reporte_principal += f\"{tank_name} tank --> {gallons} gallons left\\n\"\n",
    "    return reporte_principal\n",
    "\n",
    "print(reporte_mision(\"Moon\", 8, 11, 55, main=300000, external=200000))"
   ]
  }
 ],
 "metadata": {
  "interpreter": {
   "hash": "2be95fd37171b155ea2491b19748637f5a738f5844c76f5563acb7b06e2a1acc"
  },
  "kernelspec": {
   "display_name": "Python 3.10.2 64-bit",
   "language": "python",
   "name": "python3"
  },
  "language_info": {
   "codemirror_mode": {
    "name": "ipython",
    "version": 3
   },
   "file_extension": ".py",
   "mimetype": "text/x-python",
   "name": "python",
   "nbconvert_exporter": "python",
   "pygments_lexer": "ipython3",
   "version": "3.10.2"
  },
  "orig_nbformat": 4
 },
 "nbformat": 4,
 "nbformat_minor": 2
}
